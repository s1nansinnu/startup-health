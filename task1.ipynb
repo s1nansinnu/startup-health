{
 "cells": [
  {
   "cell_type": "code",
   "execution_count": 14,
   "id": "96a1418c-af57-489f-a4eb-21b5cba97f31",
   "metadata": {},
   "outputs": [
    {
     "data": {
      "text/plain": [
       "'the  task is i need to give score to startup based on their features in the csv \\nfile for handling csv file and calculation i need pandas and numpy'"
      ]
     },
     "execution_count": 14,
     "metadata": {},
     "output_type": "execute_result"
    }
   ],
   "source": [
    "'''the  task is i need to give score to startup based on their features in the csv \n",
    "file for handling csv file and calculation i need pandas and numpy''' "
   ]
  },
  {
   "cell_type": "code",
   "execution_count": 15,
   "id": "dc47aeed-58af-433b-b6ef-4db9f8f9ea26",
   "metadata": {},
   "outputs": [],
   "source": [
    "#import packages\n",
    "import pandas as pd\n",
    "import numpy as np"
   ]
  },
  {
   "cell_type": "code",
   "execution_count": 16,
   "id": "ee7d5148-d825-4a7f-b987-8866a661352d",
   "metadata": {},
   "outputs": [
    {
     "data": {
      "text/plain": [
       "' after that i need to analyse the dataset and normalise.there is two pat for normalisation the \\nsome attributes are higher better and some are lower better, for that i separated them,only spending is high it is not better\\nother are higher better'"
      ]
     },
     "execution_count": 16,
     "metadata": {},
     "output_type": "execute_result"
    }
   ],
   "source": [
    "''' after that i need to analyse the dataset and normalise.there is two pat for normalisation the \n",
    "some attributes are higher better and some are lower better, for that i separated them,only spending is high it is not better\n",
    "other are higher better'''"
   ]
  },
  {
   "cell_type": "code",
   "execution_count": 17,
   "id": "5215b402-48dd-49fc-9f7e-26219c9f7b10",
   "metadata": {},
   "outputs": [
    {
     "data": {
      "text/html": [
       "<div>\n",
       "<style scoped>\n",
       "    .dataframe tbody tr th:only-of-type {\n",
       "        vertical-align: middle;\n",
       "    }\n",
       "\n",
       "    .dataframe tbody tr th {\n",
       "        vertical-align: top;\n",
       "    }\n",
       "\n",
       "    .dataframe thead th {\n",
       "        text-align: right;\n",
       "    }\n",
       "</style>\n",
       "<table border=\"1\" class=\"dataframe\">\n",
       "  <thead>\n",
       "    <tr style=\"text-align: right;\">\n",
       "      <th></th>\n",
       "      <th>startup_id</th>\n",
       "      <th>team_experience</th>\n",
       "      <th>market_size_million_usd</th>\n",
       "      <th>monthly_active_users</th>\n",
       "      <th>monthly_burn_rate_inr</th>\n",
       "      <th>funds_raised_inr</th>\n",
       "      <th>valuation_inr</th>\n",
       "    </tr>\n",
       "  </thead>\n",
       "  <tbody>\n",
       "    <tr>\n",
       "      <th>0</th>\n",
       "      <td>S001</td>\n",
       "      <td>7</td>\n",
       "      <td>789</td>\n",
       "      <td>66299</td>\n",
       "      <td>6091495</td>\n",
       "      <td>4183839</td>\n",
       "      <td>263247468</td>\n",
       "    </tr>\n",
       "    <tr>\n",
       "      <th>1</th>\n",
       "      <td>S002</td>\n",
       "      <td>4</td>\n",
       "      <td>939</td>\n",
       "      <td>34866</td>\n",
       "      <td>9106842</td>\n",
       "      <td>666326</td>\n",
       "      <td>172927107</td>\n",
       "    </tr>\n",
       "    <tr>\n",
       "      <th>2</th>\n",
       "      <td>S003</td>\n",
       "      <td>8</td>\n",
       "      <td>42</td>\n",
       "      <td>73630</td>\n",
       "      <td>8817088</td>\n",
       "      <td>649150</td>\n",
       "      <td>313090455</td>\n",
       "    </tr>\n",
       "    <tr>\n",
       "      <th>3</th>\n",
       "      <td>S004</td>\n",
       "      <td>5</td>\n",
       "      <td>57</td>\n",
       "      <td>93657</td>\n",
       "      <td>6374167</td>\n",
       "      <td>20153173</td>\n",
       "      <td>305887183</td>\n",
       "    </tr>\n",
       "    <tr>\n",
       "      <th>4</th>\n",
       "      <td>S005</td>\n",
       "      <td>7</td>\n",
       "      <td>512</td>\n",
       "      <td>61187</td>\n",
       "      <td>841971</td>\n",
       "      <td>118834</td>\n",
       "      <td>84815222</td>\n",
       "    </tr>\n",
       "  </tbody>\n",
       "</table>\n",
       "</div>"
      ],
      "text/plain": [
       "  startup_id  team_experience  market_size_million_usd  monthly_active_users  \\\n",
       "0       S001                7                      789                 66299   \n",
       "1       S002                4                      939                 34866   \n",
       "2       S003                8                       42                 73630   \n",
       "3       S004                5                       57                 93657   \n",
       "4       S005                7                      512                 61187   \n",
       "\n",
       "   monthly_burn_rate_inr  funds_raised_inr  valuation_inr  \n",
       "0                6091495           4183839      263247468  \n",
       "1                9106842            666326      172927107  \n",
       "2                8817088            649150      313090455  \n",
       "3                6374167          20153173      305887183  \n",
       "4                 841971            118834       84815222  "
      ]
     },
     "metadata": {},
     "output_type": "display_data"
    }
   ],
   "source": [
    "#Load the dataset and preview\n",
    "df = pd.read_csv('Startup_Scoring_Dataset.csv')\n",
    "display(df.head())\n",
    "\n",
    "#separating based on higherr and lower\n",
    "better_high = [\n",
    "    'team_experience',       \n",
    "    'market_size_million_usd',\n",
    "    'monthly_active_users',  \n",
    "    'funds_raised_inr',      \n",
    "    'valuation_inr',         \n",
    "]\n",
    "worse_high = [\n",
    "    'monthly_burn_rate_inr', \n",
    "]"
   ]
  },
  {
   "cell_type": "code",
   "execution_count": 18,
   "id": "6db66649-68a8-4fbb-9fc2-5c18324bf263",
   "metadata": {},
   "outputs": [
    {
     "data": {
      "text/plain": [
       "' for min max normalisation i used min max normalisation formula\\nfor all features except monthly burn rate for this used invert the normalisation after doing\\nnormalisation for getting high normalised score for low burn'"
      ]
     },
     "execution_count": 18,
     "metadata": {},
     "output_type": "execute_result"
    }
   ],
   "source": [
    "''' for min max normalisation i used min max normalisation formula\n",
    "for all features except monthly burn rate for this used invert the normalisation after doing\n",
    "normalisation for getting high normalised score for low burn'''"
   ]
  },
  {
   "cell_type": "code",
   "execution_count": 19,
   "id": "58a8d266-bab8-432f-8a3f-3df1a7f600cc",
   "metadata": {},
   "outputs": [],
   "source": [
    "#Min-Max normalization formula\n",
    "def minmax_normalize(series):\n",
    "    return (series - series.min()) / (series.max() - series.min())\n",
    "norm_df = df.copy()\n",
    "\n",
    "#for higher better\n",
    "for col in better_high:\n",
    "    norm_df[col + '_norm'] = minmax_normalize(df[col])\n",
    "\n",
    "#for lower better\n",
    "for col in worse_high:\n",
    "    normed = minmax_normalize(df[col])\n",
    "    norm_df[col + '_norm'] = 1 - normed #inversing normalised value"
   ]
  },
  {
   "cell_type": "code",
   "execution_count": 20,
   "id": "9d4e46ab-4bce-40f6-8232-52a2c468d302",
   "metadata": {},
   "outputs": [
    {
     "data": {
      "text/html": [
       "<div>\n",
       "<style scoped>\n",
       "    .dataframe tbody tr th:only-of-type {\n",
       "        vertical-align: middle;\n",
       "    }\n",
       "\n",
       "    .dataframe tbody tr th {\n",
       "        vertical-align: top;\n",
       "    }\n",
       "\n",
       "    .dataframe thead th {\n",
       "        text-align: right;\n",
       "    }\n",
       "</style>\n",
       "<table border=\"1\" class=\"dataframe\">\n",
       "  <thead>\n",
       "    <tr style=\"text-align: right;\">\n",
       "      <th></th>\n",
       "      <th>startup_id</th>\n",
       "      <th>team_experience_norm</th>\n",
       "      <th>market_size_million_usd_norm</th>\n",
       "      <th>monthly_active_users_norm</th>\n",
       "      <th>funds_raised_inr_norm</th>\n",
       "      <th>valuation_inr_norm</th>\n",
       "      <th>monthly_burn_rate_inr_norm</th>\n",
       "    </tr>\n",
       "  </thead>\n",
       "  <tbody>\n",
       "    <tr>\n",
       "      <th>0</th>\n",
       "      <td>S001</td>\n",
       "      <td>0.666667</td>\n",
       "      <td>0.789206</td>\n",
       "      <td>0.669162</td>\n",
       "      <td>0.082061</td>\n",
       "      <td>0.518992</td>\n",
       "      <td>0.393230</td>\n",
       "    </tr>\n",
       "    <tr>\n",
       "      <th>1</th>\n",
       "      <td>S002</td>\n",
       "      <td>0.333333</td>\n",
       "      <td>0.941955</td>\n",
       "      <td>0.347274</td>\n",
       "      <td>0.011052</td>\n",
       "      <td>0.333843</td>\n",
       "      <td>0.084439</td>\n",
       "    </tr>\n",
       "    <tr>\n",
       "      <th>2</th>\n",
       "      <td>S003</td>\n",
       "      <td>0.777778</td>\n",
       "      <td>0.028513</td>\n",
       "      <td>0.744235</td>\n",
       "      <td>0.010706</td>\n",
       "      <td>0.621166</td>\n",
       "      <td>0.114112</td>\n",
       "    </tr>\n",
       "    <tr>\n",
       "      <th>3</th>\n",
       "      <td>S004</td>\n",
       "      <td>0.444444</td>\n",
       "      <td>0.043788</td>\n",
       "      <td>0.949320</td>\n",
       "      <td>0.404435</td>\n",
       "      <td>0.606400</td>\n",
       "      <td>0.364283</td>\n",
       "    </tr>\n",
       "    <tr>\n",
       "      <th>4</th>\n",
       "      <td>S005</td>\n",
       "      <td>0.666667</td>\n",
       "      <td>0.507128</td>\n",
       "      <td>0.616813</td>\n",
       "      <td>0.000000</td>\n",
       "      <td>0.153220</td>\n",
       "      <td>0.930815</td>\n",
       "    </tr>\n",
       "  </tbody>\n",
       "</table>\n",
       "</div>"
      ],
      "text/plain": [
       "  startup_id  team_experience_norm  market_size_million_usd_norm  \\\n",
       "0       S001              0.666667                      0.789206   \n",
       "1       S002              0.333333                      0.941955   \n",
       "2       S003              0.777778                      0.028513   \n",
       "3       S004              0.444444                      0.043788   \n",
       "4       S005              0.666667                      0.507128   \n",
       "\n",
       "   monthly_active_users_norm  funds_raised_inr_norm  valuation_inr_norm  \\\n",
       "0                   0.669162               0.082061            0.518992   \n",
       "1                   0.347274               0.011052            0.333843   \n",
       "2                   0.744235               0.010706            0.621166   \n",
       "3                   0.949320               0.404435            0.606400   \n",
       "4                   0.616813               0.000000            0.153220   \n",
       "\n",
       "   monthly_burn_rate_inr_norm  \n",
       "0                    0.393230  \n",
       "1                    0.084439  \n",
       "2                    0.114112  \n",
       "3                    0.364283  \n",
       "4                    0.930815  "
      ]
     },
     "metadata": {},
     "output_type": "display_data"
    }
   ],
   "source": [
    "#showing normalised values\n",
    "normalized_columns = [c + '_norm' for c in better_high + worse_high]\n",
    "display(norm_df[['startup_id'] + normalized_columns].head())"
   ]
  },
  {
   "cell_type": "code",
   "execution_count": 21,
   "id": "e8eed443-934c-4781-9309-1d2c5ce4fcb7",
   "metadata": {},
   "outputs": [],
   "source": [
    "#save normalised value file\n",
    "norm_df.to_csv('Startup_Scoring_Dataset_normalized.csv', index=False)"
   ]
  },
  {
   "cell_type": "code",
   "execution_count": null,
   "id": "d0405998-b996-4790-add4-5c2b77872358",
   "metadata": {},
   "outputs": [],
   "source": [
    "'''now i need to give weights to all features basedon the relevance of them, here team experience 15 beacause experienced are better for them\n",
    "market size- it has many oppurtunities,monthly active userrs-it is most important and shows the startup values,\n",
    "for monthly burn- more spend shows hey can easily shut,fund raised-they can raise fund as many want it is not always useful,\n",
    "valuation- shows how much valued is them in their industry'''"
   ]
  },
  {
   "cell_type": "code",
   "execution_count": 22,
   "id": "fe806156-4ce9-4bd2-9f37-ff74fda9a19f",
   "metadata": {},
   "outputs": [],
   "source": [
    "#giving weight for features\n",
    "weights = {\n",
    "    'team_experience_norm': 0.15,         # 15%\n",
    "    'market_size_million_usd_norm': 0.15, # 15%\n",
    "    'monthly_active_users_norm': 0.25,    # 25%\n",
    "    'monthly_burn_rate_inr_norm': 0.15,   # 15%\n",
    "    'funds_raised_inr_norm': 0.10,        # 10%\n",
    "    'valuation_inr_norm': 0.20,           # 20%\n",
    "}"
   ]
  },
  {
   "cell_type": "code",
   "execution_count": 23,
   "id": "96a27ec2-d0cb-4833-b53a-aea7ab1863a7",
   "metadata": {},
   "outputs": [
    {
     "data": {
      "text/plain": [
       "'for giving score ,multiply the normalised values and their respective weights and add each of them then multiply the sum with 100'"
      ]
     },
     "execution_count": 23,
     "metadata": {},
     "output_type": "execute_result"
    }
   ],
   "source": [
    "'''for giving score ,multiply the normalised values and their respective weights and add each of them then multiply the sum with 100'''"
   ]
  },
  {
   "cell_type": "code",
   "execution_count": 24,
   "id": "210096cb-cfa0-46fa-96a2-44b11a1f903e",
   "metadata": {},
   "outputs": [],
   "source": [
    "#Calculate sum and multiply \n",
    "norm_df['startup_score'] = (\n",
    "    norm_df['team_experience_norm']         * weights['team_experience_norm'] +\n",
    "    norm_df['market_size_million_usd_norm'] * weights['market_size_million_usd_norm'] +\n",
    "    norm_df['monthly_active_users_norm']    * weights['monthly_active_users_norm'] +\n",
    "    norm_df['monthly_burn_rate_inr_norm']   * weights['monthly_burn_rate_inr_norm'] +\n",
    "    norm_df['funds_raised_inr_norm']        * weights['funds_raised_inr_norm'] +\n",
    "    norm_df['valuation_inr_norm']           * weights['valuation_inr_norm']\n",
    ") * 100"
   ]
  },
  {
   "cell_type": "code",
   "execution_count": 25,
   "id": "c76c9eb7-1eb8-4a3d-a911-a33bb0e757b3",
   "metadata": {},
   "outputs": [
    {
     "data": {
      "text/html": [
       "<div>\n",
       "<style scoped>\n",
       "    .dataframe tbody tr th:only-of-type {\n",
       "        vertical-align: middle;\n",
       "    }\n",
       "\n",
       "    .dataframe tbody tr th {\n",
       "        vertical-align: top;\n",
       "    }\n",
       "\n",
       "    .dataframe thead th {\n",
       "        text-align: right;\n",
       "    }\n",
       "</style>\n",
       "<table border=\"1\" class=\"dataframe\">\n",
       "  <thead>\n",
       "    <tr style=\"text-align: right;\">\n",
       "      <th></th>\n",
       "      <th>startup_id</th>\n",
       "      <th>startup_score</th>\n",
       "    </tr>\n",
       "  </thead>\n",
       "  <tbody>\n",
       "    <tr>\n",
       "      <th>0</th>\n",
       "      <td>S001</td>\n",
       "      <td>55.666033</td>\n",
       "    </tr>\n",
       "    <tr>\n",
       "      <th>1</th>\n",
       "      <td>S002</td>\n",
       "      <td>35.865142</td>\n",
       "    </tr>\n",
       "    <tr>\n",
       "      <th>2</th>\n",
       "      <td>S003</td>\n",
       "      <td>44.942288</td>\n",
       "    </tr>\n",
       "    <tr>\n",
       "      <th>3</th>\n",
       "      <td>S004</td>\n",
       "      <td>52.693082</td>\n",
       "    </tr>\n",
       "    <tr>\n",
       "      <th>4</th>\n",
       "      <td>S005</td>\n",
       "      <td>50.053879</td>\n",
       "    </tr>\n",
       "  </tbody>\n",
       "</table>\n",
       "</div>"
      ],
      "text/plain": [
       "  startup_id  startup_score\n",
       "0       S001      55.666033\n",
       "1       S002      35.865142\n",
       "2       S003      44.942288\n",
       "3       S004      52.693082\n",
       "4       S005      50.053879"
      ]
     },
     "metadata": {},
     "output_type": "display_data"
    }
   ],
   "source": [
    "#show result\n",
    "display(norm_df[['startup_id', 'startup_score']].head())"
   ]
  },
  {
   "cell_type": "code",
   "execution_count": 27,
   "id": "e3f8656b-7979-4197-ab4a-354a5ca610db",
   "metadata": {},
   "outputs": [],
   "source": [
    "#ranking the startup with highest score in first position and showing top and bottom 10\n",
    "ranked_df = norm_df.sort_values('startup_score', ascending=False).reset_index(drop=True)\n",
    "#Add ranking column\n",
    "ranked_df['rank'] = ranked_df.index + 1 #index is 0 so rank will be 1"
   ]
  },
  {
   "cell_type": "code",
   "execution_count": 28,
   "id": "215a204b-8494-497d-8448-d17ee7f659ea",
   "metadata": {},
   "outputs": [
    {
     "data": {
      "text/html": [
       "<div>\n",
       "<style scoped>\n",
       "    .dataframe tbody tr th:only-of-type {\n",
       "        vertical-align: middle;\n",
       "    }\n",
       "\n",
       "    .dataframe tbody tr th {\n",
       "        vertical-align: top;\n",
       "    }\n",
       "\n",
       "    .dataframe thead th {\n",
       "        text-align: right;\n",
       "    }\n",
       "</style>\n",
       "<table border=\"1\" class=\"dataframe\">\n",
       "  <thead>\n",
       "    <tr style=\"text-align: right;\">\n",
       "      <th></th>\n",
       "      <th>rank</th>\n",
       "      <th>startup_id</th>\n",
       "      <th>startup_score</th>\n",
       "    </tr>\n",
       "  </thead>\n",
       "  <tbody>\n",
       "    <tr>\n",
       "      <th>0</th>\n",
       "      <td>1</td>\n",
       "      <td>S006</td>\n",
       "      <td>81.913573</td>\n",
       "    </tr>\n",
       "    <tr>\n",
       "      <th>1</th>\n",
       "      <td>2</td>\n",
       "      <td>S077</td>\n",
       "      <td>79.138768</td>\n",
       "    </tr>\n",
       "    <tr>\n",
       "      <th>2</th>\n",
       "      <td>3</td>\n",
       "      <td>S097</td>\n",
       "      <td>74.128713</td>\n",
       "    </tr>\n",
       "    <tr>\n",
       "      <th>3</th>\n",
       "      <td>4</td>\n",
       "      <td>S045</td>\n",
       "      <td>74.065015</td>\n",
       "    </tr>\n",
       "    <tr>\n",
       "      <th>4</th>\n",
       "      <td>5</td>\n",
       "      <td>S033</td>\n",
       "      <td>73.619570</td>\n",
       "    </tr>\n",
       "    <tr>\n",
       "      <th>5</th>\n",
       "      <td>6</td>\n",
       "      <td>S013</td>\n",
       "      <td>72.559448</td>\n",
       "    </tr>\n",
       "    <tr>\n",
       "      <th>6</th>\n",
       "      <td>7</td>\n",
       "      <td>S043</td>\n",
       "      <td>72.344103</td>\n",
       "    </tr>\n",
       "    <tr>\n",
       "      <th>7</th>\n",
       "      <td>8</td>\n",
       "      <td>S029</td>\n",
       "      <td>71.404348</td>\n",
       "    </tr>\n",
       "    <tr>\n",
       "      <th>8</th>\n",
       "      <td>9</td>\n",
       "      <td>S082</td>\n",
       "      <td>71.084414</td>\n",
       "    </tr>\n",
       "    <tr>\n",
       "      <th>9</th>\n",
       "      <td>10</td>\n",
       "      <td>S059</td>\n",
       "      <td>68.796285</td>\n",
       "    </tr>\n",
       "  </tbody>\n",
       "</table>\n",
       "</div>"
      ],
      "text/plain": [
       "   rank startup_id  startup_score\n",
       "0     1       S006      81.913573\n",
       "1     2       S077      79.138768\n",
       "2     3       S097      74.128713\n",
       "3     4       S045      74.065015\n",
       "4     5       S033      73.619570\n",
       "5     6       S013      72.559448\n",
       "6     7       S043      72.344103\n",
       "7     8       S029      71.404348\n",
       "8     9       S082      71.084414\n",
       "9    10       S059      68.796285"
      ]
     },
     "metadata": {},
     "output_type": "display_data"
    }
   ],
   "source": [
    "display(ranked_df[['rank', 'startup_id', 'startup_score']].head(10))"
   ]
  },
  {
   "cell_type": "code",
   "execution_count": 29,
   "id": "df653732-6074-4620-b0f6-067fe37170cc",
   "metadata": {},
   "outputs": [
    {
     "data": {
      "text/html": [
       "<div>\n",
       "<style scoped>\n",
       "    .dataframe tbody tr th:only-of-type {\n",
       "        vertical-align: middle;\n",
       "    }\n",
       "\n",
       "    .dataframe tbody tr th {\n",
       "        vertical-align: top;\n",
       "    }\n",
       "\n",
       "    .dataframe thead th {\n",
       "        text-align: right;\n",
       "    }\n",
       "</style>\n",
       "<table border=\"1\" class=\"dataframe\">\n",
       "  <thead>\n",
       "    <tr style=\"text-align: right;\">\n",
       "      <th></th>\n",
       "      <th>rank</th>\n",
       "      <th>startup_id</th>\n",
       "      <th>startup_score</th>\n",
       "    </tr>\n",
       "  </thead>\n",
       "  <tbody>\n",
       "    <tr>\n",
       "      <th>90</th>\n",
       "      <td>91</td>\n",
       "      <td>S061</td>\n",
       "      <td>32.505569</td>\n",
       "    </tr>\n",
       "    <tr>\n",
       "      <th>91</th>\n",
       "      <td>92</td>\n",
       "      <td>S052</td>\n",
       "      <td>32.244550</td>\n",
       "    </tr>\n",
       "    <tr>\n",
       "      <th>92</th>\n",
       "      <td>93</td>\n",
       "      <td>S093</td>\n",
       "      <td>31.638340</td>\n",
       "    </tr>\n",
       "    <tr>\n",
       "      <th>93</th>\n",
       "      <td>94</td>\n",
       "      <td>S088</td>\n",
       "      <td>30.393136</td>\n",
       "    </tr>\n",
       "    <tr>\n",
       "      <th>94</th>\n",
       "      <td>95</td>\n",
       "      <td>S074</td>\n",
       "      <td>30.019710</td>\n",
       "    </tr>\n",
       "    <tr>\n",
       "      <th>95</th>\n",
       "      <td>96</td>\n",
       "      <td>S058</td>\n",
       "      <td>29.743709</td>\n",
       "    </tr>\n",
       "    <tr>\n",
       "      <th>96</th>\n",
       "      <td>97</td>\n",
       "      <td>S098</td>\n",
       "      <td>29.001840</td>\n",
       "    </tr>\n",
       "    <tr>\n",
       "      <th>97</th>\n",
       "      <td>98</td>\n",
       "      <td>S084</td>\n",
       "      <td>28.116566</td>\n",
       "    </tr>\n",
       "    <tr>\n",
       "      <th>98</th>\n",
       "      <td>99</td>\n",
       "      <td>S023</td>\n",
       "      <td>26.693610</td>\n",
       "    </tr>\n",
       "    <tr>\n",
       "      <th>99</th>\n",
       "      <td>100</td>\n",
       "      <td>S055</td>\n",
       "      <td>19.870956</td>\n",
       "    </tr>\n",
       "  </tbody>\n",
       "</table>\n",
       "</div>"
      ],
      "text/plain": [
       "    rank startup_id  startup_score\n",
       "90    91       S061      32.505569\n",
       "91    92       S052      32.244550\n",
       "92    93       S093      31.638340\n",
       "93    94       S088      30.393136\n",
       "94    95       S074      30.019710\n",
       "95    96       S058      29.743709\n",
       "96    97       S098      29.001840\n",
       "97    98       S084      28.116566\n",
       "98    99       S023      26.693610\n",
       "99   100       S055      19.870956"
      ]
     },
     "metadata": {},
     "output_type": "display_data"
    }
   ],
   "source": [
    "display(ranked_df[['rank', 'startup_id', 'startup_score']].tail(10))"
   ]
  },
  {
   "cell_type": "code",
   "execution_count": 30,
   "id": "0de436c1-295d-4f52-bac9-6145c4a3d192",
   "metadata": {},
   "outputs": [],
   "source": [
    "#save the ranked file\n",
    "ranked_df.to_csv(\"ranked_startup_scores.csv\", index=False)"
   ]
  },
  {
   "cell_type": "code",
   "execution_count": null,
   "id": "94e19153-a9e1-440f-ad87-ce3d6b1e8af7",
   "metadata": {},
   "outputs": [],
   "source": [
    "'''the start  up 6 rank high because it has 10 years of experience it is the highest and active users are highest among other startups we gave high\n",
    "weightage to active users also donot have high burn rate which also good and other features are average  it is not the lowest among others\n",
    "for the 100 rank startup 55 it has 10 years of experience but active users is low and monthhly burn rate is high other features are low compared\n",
    "to other startups'''"
   ]
  },
  {
   "cell_type": "code",
   "execution_count": null,
   "id": "e6a18081-5383-4d3f-9f47-aa0668a9328b",
   "metadata": {},
   "outputs": [],
   "source": [
    "#visualization"
   ]
  },
  {
   "cell_type": "code",
   "execution_count": 41,
   "id": "e0d0fc97-5109-4214-b797-0729a825c325",
   "metadata": {},
   "outputs": [
    {
     "data": {
      "image/png": "[encoded data removed]",
      "text/plain": [
       "<Figure size 1800x500 with 1 Axes>"
      ]
     },
     "metadata": {},
     "output_type": "display_data"
    },
    {
     "data": {
      "image/png": "[encoded data removed]",
      "text/plain": [
       "<Figure size 1000x600 with 2 Axes>"
      ]
     },
     "metadata": {},
     "output_type": "display_data"
    },
    {
     "data": {
      "image/png": "[encoded data removed]",
      "text/plain": [
       "<Figure size 800x600 with 1 Axes>"
      ]
     },
     "metadata": {},
     "output_type": "display_data"
    }
   ],
   "source": [
    "import matplotlib.pyplot as plt\n",
    "import seaborn as sns\n",
    "\n",
    "sorted_df = norm_df.sort_values('startup_score', ascending=False)\n",
    "plt.figure(figsize=(18, 5))\n",
    "plt.bar(sorted_df['startup_id'], sorted_df['startup_score'], color='skyblue')\n",
    "plt.xlabel('Startup')\n",
    "plt.ylabel('Composite Score')\n",
    "plt.title('Sorted Startup Health Scores')\n",
    "plt.xticks([], [])\n",
    "plt.savefig('startup score.png', dpi=300, bbox_inches='tight')\n",
    "plt.show()\n",
    "\n",
    "#corelation\n",
    "feature_cols = [\n",
    "    'team_experience_norm',\n",
    "    'market_size_million_usd_norm',\n",
    "    'monthly_active_users_norm',\n",
    "    'monthly_burn_rate_inr_norm',\n",
    "    'funds_raised_inr_norm',\n",
    "    'valuation_inr_norm'\n",
    "]\n",
    "plt.figure(figsize=(10, 6))\n",
    "sns.heatmap(norm_df[feature_cols].corr(), annot=True, cmap='coolwarm', fmt='.2f')\n",
    "plt.title('Correlation Heatmap of Input Features')\n",
    "plt.savefig('correlation.png', dpi=300, bbox_inches='tight')\n",
    "plt.show()\n",
    "\n",
    "#histogram\n",
    "plt.figure(figsize=(8, 6))\n",
    "plt.hist(norm_df['startup_score'], bins=10, color='red', edgecolor='black')\n",
    "plt.xlabel('Composite Score')\n",
    "plt.ylabel('Number of Startups')\n",
    "plt.title('Distribution of Startup Scores')\n",
    "plt.savefig('Histogram.png', dpi=300, bbox_inches='tight')\n",
    "plt.show()\n"
   ]
  },
  {
   "cell_type": "code",
   "execution_count": null,
   "id": "6cc2b3cb-044a-458a-8b86-56e4bdec618c",
   "metadata": {},
   "outputs": [],
   "source": []
  }
 ],
 "metadata": {
  "kernelspec": {
   "display_name": "Python 3 (ipykernel)",
   "language": "python",
   "name": "python3"
  },
  "language_info": {
   "codemirror_mode": {
    "name": "ipython",
    "version": 3
   },
   "file_extension": ".py",
   "mimetype": "text/x-python",
   "name": "python",
   "nbconvert_exporter": "python",
   "pygments_lexer": "ipython3",
   "version": "3.13.5"
  }
 },
 "nbformat": 4,
 "nbformat_minor": 5
}
